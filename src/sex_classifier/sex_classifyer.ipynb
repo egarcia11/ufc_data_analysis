{
 "cells": [
  {
   "cell_type": "markdown",
   "metadata": {},
   "source": [
    "## Lets start by opening our directory and concatating all files and their content"
   ]
  },
  {
   "cell_type": "code",
   "execution_count": 9,
   "metadata": {},
   "outputs": [
    {
     "ename": "ModuleNotFoundError",
     "evalue": "No module named 'src'",
     "output_type": "error",
     "traceback": [
      "\u001b[1;31m---------------------------------------------------------------------------\u001b[0m",
      "\u001b[1;31mModuleNotFoundError\u001b[0m                       Traceback (most recent call last)",
      "\u001b[1;32m<ipython-input-9-35309ac3faa8>\u001b[0m in \u001b[0;36m<module>\u001b[1;34m\u001b[0m\n\u001b[0;32m      3\u001b[0m \u001b[1;32mfrom\u001b[0m \u001b[0mnumpy\u001b[0m \u001b[1;32mimport\u001b[0m \u001b[0mNaN\u001b[0m\u001b[1;33m\u001b[0m\u001b[1;33m\u001b[0m\u001b[0m\n\u001b[0;32m      4\u001b[0m \u001b[1;33m\u001b[0m\u001b[0m\n\u001b[1;32m----> 5\u001b[1;33m \u001b[1;32mfrom\u001b[0m \u001b[0msrc\u001b[0m\u001b[1;33m.\u001b[0m\u001b[0mdata\u001b[0m\u001b[1;33m.\u001b[0m\u001b[0mdataMakers\u001b[0m \u001b[1;32mimport\u001b[0m \u001b[0mdataMakers\u001b[0m\u001b[1;33m\u001b[0m\u001b[1;33m\u001b[0m\u001b[0m\n\u001b[0m\u001b[0;32m      6\u001b[0m \u001b[0mdm\u001b[0m \u001b[1;33m=\u001b[0m \u001b[0mdataMakers\u001b[0m\u001b[1;33m(\u001b[0m\u001b[1;33m)\u001b[0m\u001b[1;33m\u001b[0m\u001b[1;33m\u001b[0m\u001b[0m\n\u001b[0;32m      7\u001b[0m \u001b[0mfighterFrame\u001b[0m \u001b[1;33m=\u001b[0m \u001b[0mdm\u001b[0m\u001b[1;33m.\u001b[0m\u001b[0mmake\u001b[0m\u001b[1;33m(\u001b[0m\u001b[1;33m)\u001b[0m\u001b[1;33m\u001b[0m\u001b[1;33m\u001b[0m\u001b[0m\n",
      "\u001b[1;31mModuleNotFoundError\u001b[0m: No module named 'src'"
     ]
    }
   ],
   "source": [
    "import os\n",
    "import pandas as pd\n",
    "from numpy import NaN\n",
    "\n",
    "\n",
    "\n",
    "\n",
    "from src.data.dataMakers import dataMakers\n",
    "dm = dataMakers()\n",
    "fighterFrame = dm.make()"
   ]
  },
  {
   "cell_type": "code",
   "execution_count": 1,
   "metadata": {},
   "outputs": [
    {
     "name": "stdout",
     "output_type": "stream",
     "text": [
      "1738\n"
     ]
    }
   ],
   "source": [
    "#get list of all the text files in the directory ./names\n",
    "files = [f for f in os.listdir(\"./names\") if os.path.isfile(os.path.join(\"./names\", f))]\n",
    "\n",
    "#merge all files and their content into a pandas dataFrame\n",
    "namesFrame = pd.DataFrame()\n",
    "pieces = []\n",
    "for file in files:\n",
    "    pieces.append(pd.read_csv(os.path.join(\"./names\",file), names=['name','sex','births']))\n",
    "    \n",
    "data = pd.concat(pieces,ignore_index=True)\n",
    "namesFrame = data[['name','sex','births']]\n",
    "malesFrame = namesFrame[(namesFrame.sex == 'M')].groupby('name')\n",
    "femalesFrame = namesFrame[(namesFrame.sex == 'F')].groupby('name')\n",
    "\n",
    "print(malesFrame.get_group('Gloria').births.sum())"
   ]
  },
  {
   "cell_type": "markdown",
   "metadata": {},
   "source": [
    "In order to improve the classification, we are going to remove unisex names from the sets"
   ]
  },
  {
   "cell_type": "code",
   "execution_count": 2,
   "metadata": {},
   "outputs": [],
   "source": [
    "#Get the complement between males and females, the complement of the sets are the unisex_names\n",
    "females_set = set(namesFrame[namesFrame.sex == 'F']['name'])\n",
    "males_set = set(namesFrame[namesFrame.sex == 'M']['name'])\n",
    "unisex_names = set(set(females_set) & set(males_set))\n",
    "\n",
    "#Remove unisex names from each set\n",
    "unique_males = males_set.difference(unisex_names)\n",
    "unique_females = females_set.difference(unisex_names)"
   ]
  },
  {
   "cell_type": "code",
   "execution_count": 3,
   "metadata": {},
   "outputs": [],
   "source": [
    "#assign a probability to each unisex name\n",
    "ambiguous_names = set()\n",
    "count = 0\n",
    "\n",
    "for element in unisex_names:\n",
    "    \n",
    "    male_births = malesFrame.get_group(element).births.sum()\n",
    "    female_births = femalesFrame.get_group(element).births.sum()\n",
    "    total_births = male_births + female_births\n",
    "    probability_m = male_births/total_births\n",
    "    probability_f = 1- probability_m\n",
    "    \n",
    "    #only add the name back to the male or female set if they meet the probability threshold\n",
    "    threshold = .97\n",
    "    if probability_m >= threshold:\n",
    "        unique_males.add(element)\n",
    "        \n",
    "    elif probability_f >= threshold:\n",
    "        unique_females.add(element)\n",
    "    else:\n",
    "        ambiguous_names.add(element)\n"
   ]
  },
  {
   "cell_type": "code",
   "execution_count": 4,
   "metadata": {},
   "outputs": [],
   "source": [
    "def sex_classifyer(name):\n",
    "    if name in unique_males:\n",
    "        return 'M'\n",
    "    elif name in unique_females:\n",
    "        return 'F'\n",
    "    else:\n",
    "        return NaN"
   ]
  },
  {
   "cell_type": "code",
   "execution_count": null,
   "metadata": {},
   "outputs": [],
   "source": [
    "#validate the accuracy of the function with female set of names\n"
   ]
  }
 ],
 "metadata": {
  "kernelspec": {
   "display_name": "Python 3",
   "language": "python",
   "name": "python3"
  },
  "language_info": {
   "codemirror_mode": {
    "name": "ipython",
    "version": 3
   },
   "file_extension": ".py",
   "mimetype": "text/x-python",
   "name": "python",
   "nbconvert_exporter": "python",
   "pygments_lexer": "ipython3",
   "version": "3.7.3"
  }
 },
 "nbformat": 4,
 "nbformat_minor": 2
}
