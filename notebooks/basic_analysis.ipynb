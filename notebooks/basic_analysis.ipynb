{
 "cells": [
  {
   "cell_type": "markdown",
   "source": [
    "<p><h2 style=\"color:black\">First things first</h2><p> I am going explore the data-set to see what interesting features i can target in this first analysis. I will be using this notebook as a \"sand-box\". This process will give me an idea of what functions i need to create in order to manipulate my data-set.</p>\n",
    "<h6 style=\"color:green\">Lets start by importing the dataset. This data-set was scraped from <a href=\"http://ufcstats.com\">http://www.ufcstats.com</a> using the <a style=\"color:red\">ufc_extraction.py</a> script in this project. This script scrapes fighter statistics and stores them in a <a style=\"color:red\"> .json</a> file."
   ],
   "metadata": {
    "collapsed": false,
    "pycharm": {
     "name": "#%% md\n"
    }
   }
  },
  {
   "cell_type": "code",
   "execution_count": 18,
   "outputs": [
    {
     "data": {
      "text/plain": "         dob  draws  height  losses          name  reach  sapm  slpm  \\\n0  7-13-1978      3     NaN       0     Tom Aaron    NaN  0.00  0.00   \n1  7-03-1983      6    5.92       0  Danny Abbadi    NaN  4.41  3.29   \n\n     stance  stracc  strdef  subavg  tdacc  tdavg  tddef  \\\n0      None     0.0     0.0     0.0    0.0    0.0    0.0   \n1  Orthodox    38.0    57.0     0.0    0.0    0.0   77.0   \n\n                                                 url  weight  wins  \n0  http://ufcstats.com/fighter-details/93fe7332d1...   155.0     5  \n1  http://ufcstats.com/fighter-details/15df64c02b...   155.0     4  ",
      "text/html": "<div>\n<style scoped>\n    .dataframe tbody tr th:only-of-type {\n        vertical-align: middle;\n    }\n\n    .dataframe tbody tr th {\n        vertical-align: top;\n    }\n\n    .dataframe thead th {\n        text-align: right;\n    }\n</style>\n<table border=\"1\" class=\"dataframe\">\n  <thead>\n    <tr style=\"text-align: right;\">\n      <th></th>\n      <th>dob</th>\n      <th>draws</th>\n      <th>height</th>\n      <th>losses</th>\n      <th>name</th>\n      <th>reach</th>\n      <th>sapm</th>\n      <th>slpm</th>\n      <th>stance</th>\n      <th>stracc</th>\n      <th>strdef</th>\n      <th>subavg</th>\n      <th>tdacc</th>\n      <th>tdavg</th>\n      <th>tddef</th>\n      <th>url</th>\n      <th>weight</th>\n      <th>wins</th>\n    </tr>\n  </thead>\n  <tbody>\n    <tr>\n      <th>0</th>\n      <td>7-13-1978</td>\n      <td>3</td>\n      <td>NaN</td>\n      <td>0</td>\n      <td>Tom Aaron</td>\n      <td>NaN</td>\n      <td>0.00</td>\n      <td>0.00</td>\n      <td>None</td>\n      <td>0.0</td>\n      <td>0.0</td>\n      <td>0.0</td>\n      <td>0.0</td>\n      <td>0.0</td>\n      <td>0.0</td>\n      <td>http://ufcstats.com/fighter-details/93fe7332d1...</td>\n      <td>155.0</td>\n      <td>5</td>\n    </tr>\n    <tr>\n      <th>1</th>\n      <td>7-03-1983</td>\n      <td>6</td>\n      <td>5.92</td>\n      <td>0</td>\n      <td>Danny Abbadi</td>\n      <td>NaN</td>\n      <td>4.41</td>\n      <td>3.29</td>\n      <td>Orthodox</td>\n      <td>38.0</td>\n      <td>57.0</td>\n      <td>0.0</td>\n      <td>0.0</td>\n      <td>0.0</td>\n      <td>77.0</td>\n      <td>http://ufcstats.com/fighter-details/15df64c02b...</td>\n      <td>155.0</td>\n      <td>4</td>\n    </tr>\n  </tbody>\n</table>\n</div>"
     },
     "metadata": {},
     "output_type": "execute_result",
     "execution_count": 18
    }
   ],
   "source": [
    "from src.data.dataMakers import dataMakers\n",
    "dm = dataMakers()\n",
    "fighters = dm.make()\n",
    "fighters[0:2]"
   ],
   "metadata": {
    "collapsed": false,
    "pycharm": {
     "name": "#%%\n",
     "is_executing": false
    }
   }
  },
  {
   "cell_type": "markdown",
   "source": [
    "<p><h6 style=\"color:green\">Great! we can print the first 2 fighters which means the <a style=\"color:red\">make()</a> function from the <a style=\"color:red\">make_dataset</a> module is running smoothly. All this function does is extract the data from the extracted <a style=\"color:red\">fighters.json</a> file.</p> Now lets explore the size of this list. AKA the number of fighters in the data-set. "
   ],
   "metadata": {
    "collapsed": false,
    "pycharm": {
     "name": "#%% md\n"
    }
   }
  },
  {
   "cell_type": "code",
   "execution_count": 3,
   "outputs": [
    {
     "data": {
      "text/plain": "3323"
     },
     "metadata": {},
     "output_type": "execute_result",
     "execution_count": 3
    }
   ],
   "source": [
    "len(fighters)"
   ],
   "metadata": {
    "collapsed": false,
    "pycharm": {
     "name": "#%%\n",
     "is_executing": false
    }
   }
  },
  {
   "cell_type": "markdown",
   "source": [
    "<h6 style=\"color:green\">\n",
    "    We can see that the data-set is not absurdly large, therefore\n",
    "    we can use a simple <a style=\"color:red\"> Pandas DataFrame </a> to manipulate this data.\n",
    "</h6>"
   ],
   "metadata": {
    "collapsed": false,
    "pycharm": {
     "name": "#%% md\n"
    }
   }
  },
  {
   "cell_type": "code",
   "execution_count": 27,
   "outputs": [
    {
     "name": "stdout",
     "text": [
      "         dob  draws  height  losses                 name  reach  sapm  slpm  \\\n0  7-13-1978      3     NaN       0            Tom Aaron    NaN  0.00  0.00   \n1  7-03-1983      6    5.92       0         Danny Abbadi    NaN  4.41  3.29   \n2       None     14    6.00       0         David Abbott    NaN  3.55  1.35   \n3  9-02-1981      4    6.25       0  Shamil Abdurakhimov   76.0  2.36  2.64   \n\n     stance  stracc  strdef  subavg  tdacc  tdavg  tddef  \\\n0      None     0.0     0.0     0.0    0.0   0.00    0.0   \n1  Orthodox    38.0    57.0     0.0    0.0   0.00   77.0   \n2    Switch    30.0    38.0     0.0   33.0   1.07   66.0   \n3  Orthodox    44.0    60.0     0.2   24.0   1.34   66.0   \n\n                                                 url  weight  wins  \n0  http://ufcstats.com/fighter-details/93fe7332d1...   155.0     5  \n1  http://ufcstats.com/fighter-details/15df64c02b...   155.0     4  \n2  http://ufcstats.com/fighter-details/b361180739...   265.0    10  \n3  http://ufcstats.com/fighter-details/2f5cbecbbe...   235.0    20  \n"
     ],
     "output_type": "stream"
    }
   ],
   "source": [
    "from pandas import DataFrame, Series\n",
    "import pandas as pd\n",
    "fighterFrame = pd.DataFrame(fighters)\n",
    "\n",
    "print(fighterFrame[0:4])"
   ],
   "metadata": {
    "collapsed": false,
    "pycharm": {
     "name": "#%%\n",
     "is_executing": false
    }
   }
  },
  {
   "cell_type": "markdown",
   "source": [
    "<h2 style=\"color:black\">\n",
    "    First question: how does the distribution of fighters's weight division look like?\n",
    "</h2>\n",
    "<ul>\n",
    "    <li>Strawweight:115 lb</li>\n",
    "    <li>Flyweight: 115-125 lbs</li>\n",
    "    <li>Bantamweight: 125-135 lbs</li>\n",
    "    <li>Featherweight: 135-145 lbs</li>\n",
    "    <li>Lightweight 145-155 lbs</li>\n",
    "    <li>Welterweight 155-170 lbs</li>\n",
    "    <li>Middleweight: 170-185 lbs</li>\n",
    "    <li>Light Heavyweight: 185-205 lbs</li>\n",
    "    <li>Heavyweight: 205-265 lbs</li>\n",
    "</ul>\n",
    "<h6 style=\"color:green\">Lets create a function that counts the number of fighters in each sub-division<h6>"
   ],
   "metadata": {
    "collapsed": false,
    "pycharm": {
     "name": "#%% md\n"
    }
   }
  },
  {
   "cell_type": "code",
   "execution_count": 20,
   "outputs": [],
   "source": [
    "def get_subdivisions_count(dataset):\n",
    "    \n",
    "    counts = {\n",
    "            \"strawweight\":0,\n",
    "            \"flyweight\":0,\n",
    "            \"bantanamweight\":0,\n",
    "            \"featherweight\": 0,\n",
    "            \"lightweight\":0,\n",
    "            \"welterweight\":0,\n",
    "            \"middleweight\":0,\n",
    "            \"light heavyweight\":0,\n",
    "            \"heavyweight\":0,\n",
    "            \"no data\":0\n",
    "        }\n",
    "    \n",
    "    for fighter in dataset:\n",
    "        \n",
    "        try:\n",
    "            fighterWeight = int(fighter['weight'])\n",
    "        except TypeError:\n",
    "            counts['no data'] +=1\n",
    "            continue\n",
    "        \n",
    "        if 0 < fighterWeight <= 115:\n",
    "            counts['strawweight'] +=1\n",
    "            \n",
    "        elif 115 < fighterWeight <= 125:\n",
    "            counts['flyweight'] +=1\n",
    "            \n",
    "        elif 125 < fighterWeight <= 135:\n",
    "            counts['bantanamweight'] +=1\n",
    "            \n",
    "        elif 135 < fighterWeight <= 145:\n",
    "            counts['featherweight'] +=1\n",
    "            \n",
    "        elif 145 < fighterWeight <= 155:\n",
    "            counts['lightweight'] += 1\n",
    "    \n",
    "        elif 155 < fighterWeight <= 170:\n",
    "            counts['welterweight'] +=1\n",
    "            \n",
    "        elif 170 < fighterWeight <= 185:\n",
    "            counts['middleweight'] +=1\n",
    "            \n",
    "        elif 185 < fighterWeight <= 205:\n",
    "            counts['light heavyweight'] +=1\n",
    "            \n",
    "        elif 205 < fighterWeight <= 265:\n",
    "            counts['heavyweight'] += 1\n",
    "        else:\n",
    "            continue\n",
    "            \n",
    "    return counts"
   ],
   "metadata": {
    "collapsed": false,
    "pycharm": {
     "name": "#%%\n",
     "is_executing": false
    }
   }
  },
  {
   "cell_type": "code",
   "execution_count": 37,
   "outputs": [
    {
     "name": "stdout",
     "text": [
      "              dob  draws  height  losses                        name  reach  \\\n18      5-08-1982      8    5.25       0             Jessica Aguilar   63.0   \n32      7-14-1990      1    5.17       0              Alexandra Albu   63.0   \n63      3-05-1989      2    5.50       0              Ericka Almeida   68.0   \n80      7-11-1987      3    5.42       0  Maiara Amanajas dos Santos    NaN   \n96      9-25-1991      6    5.08       0             Jessica Andrade   62.0   \n103    12-03-1985      6    5.42       0               Nina Ansaroff   64.0   \n159     7-11-1991      3    5.42       0             Izabela Badurek    NaN   \n293    12-15-1988      2    5.67       0             Poliana Botelho   67.0   \n398     7-13-1987      1    5.33       0            Cynthia Calvillo   64.0   \n454     5-05-1987      7    5.58       0               Cortney Casey   67.0   \n478  None-25-1978      5    5.25       0               Alex Chambers   63.0   \n508     6-26-1992      3    5.08       0               Hannah Cifers   63.0   \n517     9-19-1980      6    5.50       0            Heather Jo Clark   64.0   \n542    11-02-1985      1    5.25       0               Jamie Colleen   65.0   \n559  None-22-1991      5    5.25       0               Amanda Cooper   64.0   \n615     4-11-1991      6    5.33       0               Kailin Curran   65.0   \n630    12-24-1987      6    5.17       0                Aisling Daly   64.0   \n674    12-12-1996      4    5.42       0              Maria Oliveira    NaN   \n692     3-24-1993      0    5.33       0              Mackenzie Dern   63.0   \n805    11-15-1982     10    5.33       0                  Lisa Ellis   62.0   \n\n      sapm  slpm    stance  stracc  strdef  subavg  tdacc  tdavg  tddef  \\\n18    7.19  4.93  Orthodox    50.0    53.0     0.2   25.0   0.94   50.0   \n32    4.92  5.13  Orthodox    50.0    41.0     0.6   55.0   3.05   75.0   \n63    3.33  1.07      None    39.0    43.0     0.0   33.0   0.50   37.0   \n80   24.47  5.53  Southpaw    35.0    33.0     0.0    0.0   0.00  100.0   \n96    5.13  6.55  Orthodox    51.0    52.0     0.5   58.0   3.22   76.0   \n103   3.55  4.81  Orthodox    47.0    54.0     0.6   40.0   0.29   77.0   \n159   4.90  3.74  Orthodox    71.0    32.0     0.0   12.0   1.75  100.0   \n293   2.77  3.65  Orthodox    58.0    55.0     0.0  100.0   1.27   88.0   \n398   3.50  3.87  Orthodox    39.0    64.0     2.0   36.0   1.57   69.0   \n454   4.73  4.80  Orthodox    38.0    53.0     0.5   30.0   0.35   38.0   \n478   5.10  2.97      None    54.0    50.0     1.0   41.0   2.31   53.0   \n508   6.59  4.91  Orthodox    48.0    46.0     0.0    0.0   0.00   80.0   \n517   5.62  3.69      None    49.0    50.0     0.3    4.0   0.33   80.0   \n542   5.66  3.11  Orthodox    61.0    33.0     1.6   33.0   0.52   50.0   \n559   3.20  3.55    Switch    44.0    51.0     1.8   38.0   1.53   28.0   \n615   4.75  3.89  Orthodox    43.0    53.0     0.6   57.0   2.00   61.0   \n630   1.40  2.92      None    52.0    55.0     0.9   41.0   2.15   33.0   \n674  11.48  2.62  Orthodox    42.0    23.0     0.0    0.0   0.00    0.0   \n692   3.32  4.87  Orthodox    48.0    65.0     1.7   16.0   0.86    0.0   \n805   2.32  1.68      None    48.0    57.0     0.6   63.0   4.19   50.0   \n\n                                                   url  weight  wins  \n18   http://ufcstats.com/fighter-details/8f382b3baa...   115.0    20  \n32   http://ufcstats.com/fighter-details/e76d9f656c...   115.0     7  \n63   http://ufcstats.com/fighter-details/67a992d4cf...   115.0     7  \n80   http://ufcstats.com/fighter-details/247fbbfafe...   115.0     7  \n96   http://ufcstats.com/fighter-details/6a1901c62a...   115.0    20  \n103  http://ufcstats.com/fighter-details/d343df8ba1...   115.0    10  \n159  http://ufcstats.com/fighter-details/4fcf6e0c4e...   115.0     5  \n293  http://ufcstats.com/fighter-details/5c126c6aac...   115.0     8  \n398  http://ufcstats.com/fighter-details/98215d037b...   115.0     8  \n454  http://ufcstats.com/fighter-details/5f179af5ff...   115.0     8  \n478  http://ufcstats.com/fighter-details/26b63bc5c0...   115.0     5  \n508  http://ufcstats.com/fighter-details/2244d9a2b6...   115.0     9  \n517  http://ufcstats.com/fighter-details/dd4c16777f...   115.0     7  \n542  http://ufcstats.com/fighter-details/6b64db453e...   115.0     4  \n559  http://ufcstats.com/fighter-details/d4a31850a7...   115.0     4  \n615  http://ufcstats.com/fighter-details/05b43e0ead...   115.0     4  \n630  http://ufcstats.com/fighter-details/e50cd77732...   115.0    16  \n674  http://ufcstats.com/fighter-details/37d752ec41...   115.0    10  \n692  http://ufcstats.com/fighter-details/7447e9f285...   115.0     7  \n805  http://ufcstats.com/fighter-details/77350fd0e6...   115.0    15  \n"
     ],
     "output_type": "stream"
    },
    {
     "data": {
      "text/plain": "{'strawweight': 0,\n 'flyweight': 0,\n 'bantanamweight': 0,\n 'featherweight': 0,\n 'lightweight': 0,\n 'welterweight': 0,\n 'middleweight': 0,\n 'light heavyweight': 0,\n 'heavyweight': 0,\n 'no data': 18}"
     },
     "metadata": {},
     "output_type": "execute_result",
     "execution_count": 37
    }
   ],
   "source": [
    "strawweight = range(115,)\n",
    "#this is the new code block that we have to study.\n",
    "only_125 = fighterFrame[(fighterFrame['weight'] >= 115)&(fighterFrame['weight'] < 125)]\n",
    "print(only_125[0:20])\n",
    "get_subdivisions_count(fighterFrame)"
   ],
   "metadata": {
    "collapsed": false,
    "pycharm": {
     "name": "#%%\n",
     "is_executing": false
    }
   }
  },
  {
   "cell_type": "markdown",
   "source": [
    "<h6 style=\"color:green\">\n",
    "    It will be easier to vizualize this dictionary if i convert\n",
    "    it into a <a style=\"color:red\"> pandas DataFrame</a> object\n",
    "</h6>"
   ],
   "metadata": {
    "collapsed": false,
    "pycharm": {
     "name": "#%% md\n"
    }
   }
  },
  {
   "cell_type": "code",
   "source": [
    "subCounts = pd.DataFrame(get_subdivisions_count(fighters).items(), columns=['Division','Count']).set_index('Division')\n",
    "subCounts"
   ],
   "metadata": {
    "collapsed": false,
    "pycharm": {
     "name": "#%%\n",
     "is_executing": false
    }
   },
   "execution_count": 24,
   "outputs": [
    {
     "data": {
      "text/plain": "                   Count\nDivision                \nstrawweight            0\nflyweight              0\nbantanamweight         0\nfeatherweight          0\nlightweight            0\nwelterweight           0\nmiddleweight           0\nlight heavyweight      0\nheavyweight            0\nno data               18",
      "text/html": "<div>\n<style scoped>\n    .dataframe tbody tr th:only-of-type {\n        vertical-align: middle;\n    }\n\n    .dataframe tbody tr th {\n        vertical-align: top;\n    }\n\n    .dataframe thead th {\n        text-align: right;\n    }\n</style>\n<table border=\"1\" class=\"dataframe\">\n  <thead>\n    <tr style=\"text-align: right;\">\n      <th></th>\n      <th>Count</th>\n    </tr>\n    <tr>\n      <th>Division</th>\n      <th></th>\n    </tr>\n  </thead>\n  <tbody>\n    <tr>\n      <th>strawweight</th>\n      <td>0</td>\n    </tr>\n    <tr>\n      <th>flyweight</th>\n      <td>0</td>\n    </tr>\n    <tr>\n      <th>bantanamweight</th>\n      <td>0</td>\n    </tr>\n    <tr>\n      <th>featherweight</th>\n      <td>0</td>\n    </tr>\n    <tr>\n      <th>lightweight</th>\n      <td>0</td>\n    </tr>\n    <tr>\n      <th>welterweight</th>\n      <td>0</td>\n    </tr>\n    <tr>\n      <th>middleweight</th>\n      <td>0</td>\n    </tr>\n    <tr>\n      <th>light heavyweight</th>\n      <td>0</td>\n    </tr>\n    <tr>\n      <th>heavyweight</th>\n      <td>0</td>\n    </tr>\n    <tr>\n      <th>no data</th>\n      <td>18</td>\n    </tr>\n  </tbody>\n</table>\n</div>"
     },
     "metadata": {},
     "output_type": "execute_result",
     "execution_count": 24
    }
   ]
  },
  {
   "cell_type": "markdown",
   "source": [
    "<h6 style=\"color:green\">\n",
    "    Nice! we now have a  <a style=\"color:red\"> pandas DataFrame</a> with the weight-class distributions.\n",
    "    Now lets try to vizualize it.\n",
    "</h6>"
   ],
   "metadata": {
    "collapsed": false
   }
  },
  {
   "cell_type": "code",
   "execution_count": 15,
   "outputs": [
    {
     "data": {
      "text/plain": "<matplotlib.axes._subplots.AxesSubplot at 0x1185a4b70>"
     },
     "metadata": {},
     "output_type": "execute_result",
     "execution_count": 15
    },
    {
     "data": {
      "text/plain": "<Figure size 432x288 with 1 Axes>",
      "image/png": "[encoded data removed]"
     },
     "metadata": {
      "needs_background": "light"
     },
     "output_type": "display_data"
    }
   ],
   "source": [
    "subCounts.plot(kind='barh', rot=0)"
   ],
   "metadata": {
    "collapsed": false,
    "pycharm": {
     "name": "#%%\n",
     "is_executing": false
    }
   }
  },
  {
   "cell_type": "markdown",
   "source": [
    "<h6 style=\"color:green\">\n",
    "    Interesting! we see that the most common weight division is welterweight and the smallest division is strawweight.\n",
    "    I would like to do something similar for the height and age attributes of each fighter.\n",
    "</h6>"
   ],
   "metadata": {
    "collapsed": false
   }
  },
  {
   "cell_type": "markdown",
   "source": [
    "<h2 style=\"color:black\">\n",
    "    Second Question: How does height distribution look like?\n",
    "</h2>\n"
   ],
   "metadata": {
    "collapsed": false,
    "pycharm": {
     "name": "#%% md\n"
    }
   }
  },
  {
   "cell_type": "code",
   "execution_count": 3,
   "outputs": [
    {
     "traceback": [
      "\u001b[0;31m---------------------------------------------------------------------------\u001b[0m",
      "\u001b[0;31mNameError\u001b[0m                                 Traceback (most recent call last)",
      "\u001b[0;32m<ipython-input-3-d788a9f37358>\u001b[0m in \u001b[0;36m<module>\u001b[0;34m\u001b[0m\n\u001b[0;32m----> 1\u001b[0;31m \u001b[0mheightFrame\u001b[0m \u001b[0;34m=\u001b[0m  \u001b[0mpd\u001b[0m\u001b[0;34m.\u001b[0m\u001b[0mDataFrame\u001b[0m\u001b[0;34m(\u001b[0m\u001b[0mfighterFrame\u001b[0m\u001b[0;34m[\u001b[0m\u001b[0;34m'height'\u001b[0m\u001b[0;34m]\u001b[0m\u001b[0;34m)\u001b[0m\u001b[0;34m\u001b[0m\u001b[0;34m\u001b[0m\u001b[0m\n\u001b[0m\u001b[1;32m      2\u001b[0m \u001b[0mheightFrame\u001b[0m\u001b[0;34m.\u001b[0m\u001b[0mhist\u001b[0m\u001b[0;34m(\u001b[0m\u001b[0mbins\u001b[0m\u001b[0;34m=\u001b[0m\u001b[0;36m10\u001b[0m\u001b[0;34m)\u001b[0m\u001b[0;34m\u001b[0m\u001b[0;34m\u001b[0m\u001b[0m\n",
      "\u001b[0;31mNameError\u001b[0m: name 'fighterFrame' is not defined"
     ],
     "ename": "NameError",
     "evalue": "name 'fighterFrame' is not defined",
     "output_type": "error"
    }
   ],
   "source": [
    "heightFrame =  pd.DataFrame(fighterFrame['height'])\n",
    "heightFrame.hist(bins=10)"
   ],
   "metadata": {
    "collapsed": false,
    "pycharm": {
     "name": "#%%\n",
     "is_executing": false
    }
   }
  },
  {
   "cell_type": "markdown",
   "source": [
    "<h6 style=\"color:green\">\n",
    "    We can see in this 10-bin histogram that the most common heights in the UFC\n",
    "    fall between 5.9 and 6.2 feet. This is interesting but too general; a better\n",
    "    analysis would be to plot the height distribution of each fighting class.\n",
    "</h6>\n",
    "<h6 style=\"color:green\"></h6>\n",
    "<h2 style=\"color:black\">\n",
    "    Third question: how does the height distribution in each fighting class look like? \n",
    "</h2>\n",
    "<p>Strawweight</p> "
   ],
   "metadata": {
    "collapsed": false,
    "pycharm": {
     "name": "#%% md\n"
    }
   }
  },
  {
   "cell_type": "code",
   "execution_count": 28,
   "outputs": [
    {
     "name": "stdout",
     "text": [
      "1\n"
     ],
     "output_type": "stream"
    }
   ],
   "source": [
    "strawweightFrame = dm.make_weight_division('strawweight')\n",
    "print(strawweightFrame)\n"
   ],
   "metadata": {
    "collapsed": false,
    "pycharm": {
     "name": "#%%\n",
     "is_executing": false
    }
   }
  },
  {
   "cell_type": "markdown",
   "source": [
    "<h6 style=\"color:green\">\n",
    "    \n",
    "</h6>"
   ],
   "metadata": {
    "collapsed": false,
    "pycharm": {
     "name": "#%% md\n"
    }
   }
  }
 ],
 "metadata": {
  "language_info": {
   "codemirror_mode": {
    "name": "ipython",
    "version": 2
   },
   "file_extension": ".py",
   "mimetype": "text/x-python",
   "name": "python",
   "nbconvert_exporter": "python",
   "pygments_lexer": "ipython2",
   "version": "2.7.6"
  },
  "kernelspec": {
   "name": "python3",
   "language": "python",
   "display_name": "Python 3"
  },
  "pycharm": {
   "stem_cell": {
    "cell_type": "raw",
    "source": [],
    "metadata": {
     "collapsed": false
    }
   }
  }
 },
 "nbformat": 4,
 "nbformat_minor": 0
}