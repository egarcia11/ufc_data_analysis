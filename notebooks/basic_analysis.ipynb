{
 "cells": [
  {
   "cell_type": "markdown",
   "source": [
    "<p><h2 style=\"color:black\">First things first</h2><p> I am going explore the data-set to see what interesting features i can target in this first analysis. I will be using this notebook as a \"sand-box\". This process will give me an idea of what functions i need to create in order to manipulate my data-set.</p>\n",
    "<h6 style=\"color:green\">Lets start by importing the dataset. This data-set was scraped from <a href=\"http://ufcstats.com\">http://www.ufcstats.com</a> using the <a style=\"color:red\">ufc_extraction.py</a> script in this project. This script scrapes fighter statistics and stores them in a <a style=\"color:red\"> .json</a> file."
   ],
   "metadata": {
    "collapsed": false,
    "pycharm": {
     "name": "#%% md\n"
    }
   }
  },
  {
   "cell_type": "code",
   "execution_count": 43,
   "outputs": [
    {
     "data": {
      "text/plain": "[{'url': 'http://ufcstats.com/fighter-details/93fe7332d16c6ad9',\n  'name': 'Tom Aaron',\n  'wins': 5,\n  'draws': 3,\n  'losses': 0,\n  'height': None,\n  'weight': 155.0,\n  'reach': None,\n  'stance': None,\n  'dob': '7-13-1978',\n  'slpm': 0.0,\n  'stracc': 0.0,\n  'sapm': 0.0,\n  'strdef': 0.0,\n  'tdavg': 0.0,\n  'tdacc': 0.0,\n  'tddef': 0.0,\n  'subavg': 0.0},\n {'url': 'http://ufcstats.com/fighter-details/15df64c02b6b0fde',\n  'name': 'Danny Abbadi',\n  'wins': 4,\n  'draws': 6,\n  'losses': 0,\n  'height': 5.92,\n  'weight': 155.0,\n  'reach': None,\n  'stance': 'Orthodox',\n  'dob': '7-03-1983',\n  'slpm': 3.29,\n  'stracc': 38.0,\n  'sapm': 4.41,\n  'strdef': 57.0,\n  'tdavg': 0.0,\n  'tdacc': 0.0,\n  'tddef': 77.0,\n  'subavg': 0.0}]"
     },
     "metadata": {},
     "output_type": "execute_result",
     "execution_count": 43
    }
   ],
   "source": [
    "from src.data.dataMakers import dataMakers\n",
    "dm = dataMakers()\n",
    "fighters = dm.make()\n",
    "fighters[0:2]"
   ],
   "metadata": {
    "collapsed": false,
    "pycharm": {
     "name": "#%%\n",
     "is_executing": false
    }
   }
  },
  {
   "cell_type": "markdown",
   "source": [
    "<p><h6 style=\"color:green\">Great! we can print the first 2 fighters which means the <a style=\"color:red\">make()</a> function from the <a style=\"color:red\">make_dataset</a> module is running smoothly. All this function does is extract the data from the extracted <a style=\"color:red\">fighters.json</a> file.</p> Now lets explore the size of this list. AKA the number of fighters in the data-set. "
   ],
   "metadata": {
    "collapsed": false,
    "pycharm": {
     "name": "#%% md\n"
    }
   }
  },
  {
   "cell_type": "code",
   "execution_count": 19,
   "outputs": [
    {
     "data": {
      "text/plain": "3323"
     },
     "metadata": {},
     "output_type": "execute_result",
     "execution_count": 19
    }
   ],
   "source": [
    "len(fighters)"
   ],
   "metadata": {
    "collapsed": false,
    "pycharm": {
     "name": "#%%\n",
     "is_executing": false
    }
   }
  },
  {
   "cell_type": "markdown",
   "source": [
    "<h6 style=\"color:green\">\n",
    "    We can see that the data-set is not absurdly large, therefore\n",
    "    we can use a simple <a style=\"color:red\"> Pandas DataFrame </a> to manipulate this data.\n",
    "</h6>"
   ],
   "metadata": {
    "collapsed": false,
    "pycharm": {
     "name": "#%% md\n"
    }
   }
  },
  {
   "cell_type": "code",
   "execution_count": 20,
   "outputs": [
    {
     "name": "stdout",
     "text": [
      "         dob  draws  height  losses                 name  reach  sapm  slpm  \\\n0  7-13-1978      3     NaN       0            Tom Aaron    NaN  0.00  0.00   \n1  7-03-1983      6    5.92       0         Danny Abbadi    NaN  4.41  3.29   \n2       None     14    6.00       0         David Abbott    NaN  3.55  1.35   \n3  9-02-1981      4    6.25       0  Shamil Abdurakhimov   76.0  2.36  2.64   \n\n     stance  stracc  strdef  subavg  tdacc  tdavg  tddef  \\\n0      None     0.0     0.0     0.0    0.0   0.00    0.0   \n1  Orthodox    38.0    57.0     0.0    0.0   0.00   77.0   \n2    Switch    30.0    38.0     0.0   33.0   1.07   66.0   \n3  Orthodox    44.0    60.0     0.2   24.0   1.34   66.0   \n\n                                                 url  weight  wins  \n0  http://ufcstats.com/fighter-details/93fe7332d1...   155.0     5  \n1  http://ufcstats.com/fighter-details/15df64c02b...   155.0     4  \n2  http://ufcstats.com/fighter-details/b361180739...   265.0    10  \n3  http://ufcstats.com/fighter-details/2f5cbecbbe...   235.0    20  \n"
     ],
     "output_type": "stream"
    }
   ],
   "source": [
    "from pandas import DataFrame, Series\n",
    "import pandas as pd\n",
    "fighterFrame = pd.DataFrame(fighters)\n",
    "\n",
    "print(fighterFrame[0:4])"
   ],
   "metadata": {
    "collapsed": false,
    "pycharm": {
     "name": "#%%\n",
     "is_executing": false
    }
   }
  },
  {
   "cell_type": "markdown",
   "source": [
    "<h2 style=\"color:black\">\n",
    "    First question: how does the distribution of fighters's weight division look like?\n",
    "</h2>\n",
    "<ul>\n",
    "    <li>Strawweight:115 lb</li>\n",
    "    <li>Flyweight: 115-125 lbs</li>\n",
    "    <li>Bantamweight: 125-135 lbs</li>\n",
    "    <li>Featherweight: 135-145 lbs</li>\n",
    "    <li>Lightweight 145-155 lbs</li>\n",
    "    <li>Welterweight 155-170 lbs</li>\n",
    "    <li>Middleweight: 170-185 lbs</li>\n",
    "    <li>Light Heavyweight: 185-205 lbs</li>\n",
    "    <li>Heavyweight: 205-265 lbs</li>\n",
    "</ul>\n",
    "<h6 style=\"color:green\">Lets create a function that counts the number of fighters in each sub-division<h6>"
   ],
   "metadata": {
    "collapsed": false,
    "pycharm": {
     "name": "#%% md\n"
    }
   }
  },
  {
   "cell_type": "code",
   "execution_count": 3,
   "outputs": [],
   "source": [
    "def get_subdivisions_count(dataset):\n",
    "    \n",
    "    counts = {\n",
    "            \"strawweight\":0,\n",
    "            \"flyweight\":0,\n",
    "            \"bantanamweight\":0,\n",
    "            \"featherweight\": 0,\n",
    "            \"lightweight\":0,\n",
    "            \"welterweight\":0,\n",
    "            \"middleweight\":0,\n",
    "            \"light heavyweight\":0,\n",
    "            \"heavyweight\":0,\n",
    "            \"no data\":0\n",
    "        }\n",
    "    \n",
    "    for fighter in dataset:\n",
    "        \n",
    "        try:\n",
    "            fighterWeight = int(fighter['weight'])\n",
    "        except TypeError:\n",
    "            counts['no data'] +=1\n",
    "            continue\n",
    "        \n",
    "        if 0 < fighterWeight <= 115:\n",
    "            counts['strawweight'] +=1\n",
    "            \n",
    "        elif 115 < fighterWeight <= 125:\n",
    "            counts['flyweight'] +=1\n",
    "            \n",
    "        elif 125 < fighterWeight <= 135:\n",
    "            counts['bantanamweight'] +=1\n",
    "            \n",
    "        elif 135 < fighterWeight <= 145:\n",
    "            counts['featherweight'] +=1\n",
    "            \n",
    "        elif 145 < fighterWeight <= 155:\n",
    "            counts['lightweight'] += 1\n",
    "    \n",
    "        elif 155 < fighterWeight <= 170:\n",
    "            counts['welterweight'] +=1\n",
    "            \n",
    "        elif 170 < fighterWeight <= 185:\n",
    "            counts['middleweight'] +=1\n",
    "            \n",
    "        elif 185 < fighterWeight <= 205:\n",
    "            counts['light heavyweight'] +=1\n",
    "            \n",
    "        elif 205 < fighterWeight <= 265:\n",
    "            counts['heavyweight'] += 1\n",
    "        else:\n",
    "            continue\n",
    "            \n",
    "    return counts"
   ],
   "metadata": {
    "collapsed": false,
    "pycharm": {
     "name": "#%%\n",
     "is_executing": false
    }
   }
  },
  {
   "cell_type": "code",
   "execution_count": 21,
   "outputs": [
    {
     "data": {
      "text/plain": "{'strawweight': 75,\n 'flyweight': 158,\n 'bantanamweight': 332,\n 'featherweight': 359,\n 'lightweight': 525,\n 'welterweight': 554,\n 'middleweight': 444,\n 'light heavyweight': 376,\n 'heavyweight': 377,\n 'no data': 76}"
     },
     "metadata": {},
     "output_type": "execute_result",
     "execution_count": 21
    }
   ],
   "source": [
    "get_subdivisions_count(fighters)"
   ],
   "metadata": {
    "collapsed": false,
    "pycharm": {
     "name": "#%%\n",
     "is_executing": false
    }
   }
  },
  {
   "cell_type": "markdown",
   "source": [
    "<h6 style=\"color:green\">\n",
    "    It will be easier to vizualize this dictionary if i convert\n",
    "    it into a <a style=\"color:red\"> pandas DataFrame</a> object\n",
    "</h6>"
   ],
   "metadata": {
    "collapsed": false,
    "pycharm": {
     "name": "#%% md\n"
    }
   }
  },
  {
   "cell_type": "code",
   "source": [
    "subCounts = pd.DataFrame(get_subdivisions_count(fighters).items(), columns=['Division','Count']).set_index('Division')\n",
    "subCounts"
   ],
   "metadata": {
    "collapsed": false,
    "pycharm": {
     "name": "#%%\n",
     "is_executing": false
    }
   },
   "execution_count": 26,
   "outputs": [
    {
     "data": {
      "text/plain": "                   Count\nDivision                \nstrawweight           75\nflyweight            158\nbantanamweight       332\nfeatherweight        359\nlightweight          525\nwelterweight         554\nmiddleweight         444\nlight heavyweight    376\nheavyweight          377\nno data               76",
      "text/html": "<div>\n<style scoped>\n    .dataframe tbody tr th:only-of-type {\n        vertical-align: middle;\n    }\n\n    .dataframe tbody tr th {\n        vertical-align: top;\n    }\n\n    .dataframe thead th {\n        text-align: right;\n    }\n</style>\n<table border=\"1\" class=\"dataframe\">\n  <thead>\n    <tr style=\"text-align: right;\">\n      <th></th>\n      <th>Count</th>\n    </tr>\n    <tr>\n      <th>Division</th>\n      <th></th>\n    </tr>\n  </thead>\n  <tbody>\n    <tr>\n      <th>strawweight</th>\n      <td>75</td>\n    </tr>\n    <tr>\n      <th>flyweight</th>\n      <td>158</td>\n    </tr>\n    <tr>\n      <th>bantanamweight</th>\n      <td>332</td>\n    </tr>\n    <tr>\n      <th>featherweight</th>\n      <td>359</td>\n    </tr>\n    <tr>\n      <th>lightweight</th>\n      <td>525</td>\n    </tr>\n    <tr>\n      <th>welterweight</th>\n      <td>554</td>\n    </tr>\n    <tr>\n      <th>middleweight</th>\n      <td>444</td>\n    </tr>\n    <tr>\n      <th>light heavyweight</th>\n      <td>376</td>\n    </tr>\n    <tr>\n      <th>heavyweight</th>\n      <td>377</td>\n    </tr>\n    <tr>\n      <th>no data</th>\n      <td>76</td>\n    </tr>\n  </tbody>\n</table>\n</div>"
     },
     "metadata": {},
     "output_type": "execute_result",
     "execution_count": 26
    }
   ]
  },
  {
   "cell_type": "markdown",
   "source": [
    "<h6 style=\"color:green\">\n",
    "    Nice! we now have a  <a style=\"color:red\"> pandas DataFrame</a> with the weight-class distributions.\n",
    "    Now lets try to vizualize it.\n",
    "</h6>"
   ],
   "metadata": {
    "collapsed": false
   }
  },
  {
   "cell_type": "code",
   "execution_count": 28,
   "outputs": [
    {
     "data": {
      "text/plain": "<matplotlib.axes._subplots.AxesSubplot at 0x11f300438>"
     },
     "metadata": {},
     "output_type": "execute_result",
     "execution_count": 28
    },
    {
     "data": {
      "text/plain": "<Figure size 432x288 with 1 Axes>",
      "image/png": "[encoded data removed]"
     },
     "metadata": {
      "needs_background": "light"
     },
     "output_type": "display_data"
    }
   ],
   "source": [
    "subCounts.plot(kind='barh', rot=0)"
   ],
   "metadata": {
    "collapsed": false,
    "pycharm": {
     "name": "#%%\n",
     "is_executing": false
    }
   }
  },
  {
   "cell_type": "markdown",
   "source": [
    "<h6 style=\"color:green\">\n",
    "    Interesting! we see that the most common weight division is welterweight and the smallest division is strawweight.\n",
    "    I would like to do something similar for the height and age attributes of each fighter.\n",
    "</h6>"
   ],
   "metadata": {
    "collapsed": false
   }
  },
  {
   "cell_type": "markdown",
   "source": [
    "<h2 style=\"color:black\">\n",
    "    Second Question: How does height distribution look like?\n",
    "</h2>\n"
   ],
   "metadata": {
    "collapsed": false,
    "pycharm": {
     "name": "#%% md\n"
    }
   }
  },
  {
   "cell_type": "code",
   "execution_count": 34,
   "outputs": [
    {
     "data": {
      "text/plain": "array([[<matplotlib.axes._subplots.AxesSubplot object at 0x12b27f588>]],\n      dtype=object)"
     },
     "metadata": {},
     "output_type": "execute_result",
     "execution_count": 34
    },
    {
     "data": {
      "text/plain": "<Figure size 432x288 with 1 Axes>",
      "image/png": "[encoded data removed]"
     },
     "metadata": {
      "needs_background": "light"
     },
     "output_type": "display_data"
    }
   ],
   "source": [
    "heightFrame =  pd.DataFrame(fighterFrame['height'])\n",
    "heightFrame.hist(bins=10)"
   ],
   "metadata": {
    "collapsed": false,
    "pycharm": {
     "name": "#%%\n",
     "is_executing": false
    }
   }
  },
  {
   "cell_type": "markdown",
   "source": [
    "<h6 style=\"color:green\">\n",
    "    We can see in this 10-bin histogram that the most common heights in the UFC\n",
    "    fall between 5.9 and 6.2 feet. This is interesting but too general; a better\n",
    "    analysis would be to plot the height distribution of each fighting class.\n",
    "</h6>\n",
    "<h6 style=\"color:green\"></h6>\n",
    "<h2 style=\"color:black\">\n",
    "    Third question: how does the height distribution in each fighting class look like? \n",
    "</h2>\n",
    "<p>Strawweight</p> "
   ],
   "metadata": {
    "collapsed": false,
    "pycharm": {
     "name": "#%% md\n"
    }
   }
  },
  {
   "cell_type": "code",
   "execution_count": 46,
   "outputs": [
    {
     "traceback": [
      "\u001b[0;31m---------------------------------------------------------------------------\u001b[0m",
      "\u001b[0;31mTypeError\u001b[0m                                 Traceback (most recent call last)",
      "\u001b[0;32m<ipython-input-46-cb7f36a56f87>\u001b[0m in \u001b[0;36m<module>\u001b[0;34m\u001b[0m\n\u001b[1;32m      1\u001b[0m \u001b[0;34m\u001b[0m\u001b[0m\n\u001b[0;32m----> 2\u001b[0;31m \u001b[0mstrawweightFrame\u001b[0m \u001b[0;34m=\u001b[0m \u001b[0mdm\u001b[0m\u001b[0;34m.\u001b[0m\u001b[0mmake_weight_division\u001b[0m\u001b[0;34m(\u001b[0m\u001b[0;34m'strawweight'\u001b[0m\u001b[0;34m)\u001b[0m\u001b[0;34m\u001b[0m\u001b[0;34m\u001b[0m\u001b[0m\n\u001b[0m",
      "\u001b[0;32m~/PycharmProjects/ufc_data_analysis/src/data/dataMakers.py\u001b[0m in \u001b[0;36mmake_weight_division\u001b[0;34m(self, division)\u001b[0m\n\u001b[1;32m     12\u001b[0m     \u001b[0;32mdef\u001b[0m \u001b[0mmake_weight_division\u001b[0m\u001b[0;34m(\u001b[0m\u001b[0mself\u001b[0m\u001b[0;34m,\u001b[0m \u001b[0mdivision\u001b[0m\u001b[0;34m)\u001b[0m\u001b[0;34m:\u001b[0m\u001b[0;34m\u001b[0m\u001b[0;34m\u001b[0m\u001b[0m\n\u001b[1;32m     13\u001b[0m         \u001b[0;32mif\u001b[0m \u001b[0mdivision\u001b[0m \u001b[0;34m==\u001b[0m \u001b[0;34m'strawweight'\u001b[0m\u001b[0;34m:\u001b[0m\u001b[0;34m\u001b[0m\u001b[0;34m\u001b[0m\u001b[0m\n\u001b[0;32m---> 14\u001b[0;31m             \u001b[0;32mreturn\u001b[0m \u001b[0;34m[\u001b[0m\u001b[0mfighter\u001b[0m \u001b[0;32mfor\u001b[0m \u001b[0mfighter\u001b[0m \u001b[0;32min\u001b[0m \u001b[0mself\u001b[0m\u001b[0;34m.\u001b[0m\u001b[0mfighters\u001b[0m \u001b[0;32mif\u001b[0m \u001b[0;36m75\u001b[0m \u001b[0;34m>\u001b[0m \u001b[0mfighter\u001b[0m\u001b[0;34m[\u001b[0m\u001b[0;34m'weight'\u001b[0m\u001b[0;34m]\u001b[0m \u001b[0;32mand\u001b[0m \u001b[0mfighter\u001b[0m\u001b[0;34m[\u001b[0m\u001b[0;34m'weight'\u001b[0m\u001b[0;34m]\u001b[0m \u001b[0;34m<=\u001b[0m \u001b[0;36m158\u001b[0m\u001b[0;34m]\u001b[0m\u001b[0;34m\u001b[0m\u001b[0;34m\u001b[0m\u001b[0m\n\u001b[0m",
      "\u001b[0;32m~/PycharmProjects/ufc_data_analysis/src/data/dataMakers.py\u001b[0m in \u001b[0;36m<listcomp>\u001b[0;34m(.0)\u001b[0m\n\u001b[1;32m     12\u001b[0m     \u001b[0;32mdef\u001b[0m \u001b[0mmake_weight_division\u001b[0m\u001b[0;34m(\u001b[0m\u001b[0mself\u001b[0m\u001b[0;34m,\u001b[0m \u001b[0mdivision\u001b[0m\u001b[0;34m)\u001b[0m\u001b[0;34m:\u001b[0m\u001b[0;34m\u001b[0m\u001b[0;34m\u001b[0m\u001b[0m\n\u001b[1;32m     13\u001b[0m         \u001b[0;32mif\u001b[0m \u001b[0mdivision\u001b[0m \u001b[0;34m==\u001b[0m \u001b[0;34m'strawweight'\u001b[0m\u001b[0;34m:\u001b[0m\u001b[0;34m\u001b[0m\u001b[0;34m\u001b[0m\u001b[0m\n\u001b[0;32m---> 14\u001b[0;31m             \u001b[0;32mreturn\u001b[0m \u001b[0;34m[\u001b[0m\u001b[0mfighter\u001b[0m \u001b[0;32mfor\u001b[0m \u001b[0mfighter\u001b[0m \u001b[0;32min\u001b[0m \u001b[0mself\u001b[0m\u001b[0;34m.\u001b[0m\u001b[0mfighters\u001b[0m \u001b[0;32mif\u001b[0m \u001b[0;36m75\u001b[0m \u001b[0;34m>\u001b[0m \u001b[0mfighter\u001b[0m\u001b[0;34m[\u001b[0m\u001b[0;34m'weight'\u001b[0m\u001b[0;34m]\u001b[0m \u001b[0;32mand\u001b[0m \u001b[0mfighter\u001b[0m\u001b[0;34m[\u001b[0m\u001b[0;34m'weight'\u001b[0m\u001b[0;34m]\u001b[0m \u001b[0;34m<=\u001b[0m \u001b[0;36m158\u001b[0m\u001b[0;34m]\u001b[0m\u001b[0;34m\u001b[0m\u001b[0;34m\u001b[0m\u001b[0m\n\u001b[0m",
      "\u001b[0;31mTypeError\u001b[0m: '>' not supported between instances of 'int' and 'NoneType'"
     ],
     "ename": "TypeError",
     "evalue": "'>' not supported between instances of 'int' and 'NoneType'",
     "output_type": "error"
    }
   ],
   "source": [
    "\n",
    "strawweightFrame = dm.make_weight_division('strawweight')"
   ],
   "metadata": {
    "collapsed": false,
    "pycharm": {
     "name": "#%%\n",
     "is_executing": false
    }
   }
  },
  {
   "cell_type": "markdown",
   "source": [
    "<h6 style=\"color:green\">\n",
    "    \n",
    "</h6>"
   ],
   "metadata": {
    "collapsed": false,
    "pycharm": {
     "name": "#%% md\n"
    }
   }
  }
 ],
 "metadata": {
  "language_info": {
   "codemirror_mode": {
    "name": "ipython",
    "version": 2
   },
   "file_extension": ".py",
   "mimetype": "text/x-python",
   "name": "python",
   "nbconvert_exporter": "python",
   "pygments_lexer": "ipython2",
   "version": "2.7.6"
  },
  "kernelspec": {
   "name": "python3",
   "language": "python",
   "display_name": "Python 3"
  },
  "pycharm": {
   "stem_cell": {
    "cell_type": "raw",
    "source": [],
    "metadata": {
     "collapsed": false
    }
   }
  }
 },
 "nbformat": 4,
 "nbformat_minor": 0
}