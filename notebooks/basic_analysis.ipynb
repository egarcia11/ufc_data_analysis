{
 "cells": [
  {
   "cell_type": "markdown",
   "source": [
    "<p><h2 style=\"color:black\">First things first</h2><p> I am going explore the data-set to see what interesting features i can target in this first analysis. I will be using this notebook as a \"sand-box\". This process will give me an idea of what functions i need to create in order to manipulate my data-set.</p>\n",
    "<h6 style=\"color:green\">Lets start by importing the dataset. This data-set was scraped from <a href=\"http://ufcstats.com\">http://www.ufcstats.com</a> using the <a style=\"color:red\">ufc_extraction.py</a> script in this project. This script scrapes fighter statistics and stores them in a <a style=\"color:red\"> .json</a> file."
   ],
   "metadata": {
    "collapsed": false,
    "pycharm": {
     "name": "#%% md\n"
    }
   }
  },
  {
   "cell_type": "code",
   "execution_count": 6,
   "outputs": [
    {
     "data": {
      "text/plain": "[{'url': 'http://ufcstats.com/fighter-details/93fe7332d16c6ad9',\n  'name': 'Tom Aaron',\n  'wins': 5,\n  'draws': 3,\n  'losses': 0,\n  'height': None,\n  'weight': 155.0,\n  'reach': None,\n  'stance': None,\n  'dob': '7-13-1978',\n  'slpm': 0.0,\n  'stracc': 0.0,\n  'sapm': 0.0,\n  'strdef': 0.0,\n  'tdavg': 0.0,\n  'tdacc': 0.0,\n  'tddef': 0.0,\n  'subavg': 0.0},\n {'url': 'http://ufcstats.com/fighter-details/15df64c02b6b0fde',\n  'name': 'Danny Abbadi',\n  'wins': 4,\n  'draws': 6,\n  'losses': 0,\n  'height': 511.0,\n  'weight': 155.0,\n  'reach': None,\n  'stance': 'Orthodox',\n  'dob': '7-03-1983',\n  'slpm': 3.29,\n  'stracc': 38.0,\n  'sapm': 4.41,\n  'strdef': 57.0,\n  'tdavg': 0.0,\n  'tdacc': 0.0,\n  'tddef': 77.0,\n  'subavg': 0.0}]"
     },
     "metadata": {},
     "output_type": "execute_result",
     "execution_count": 6
    }
   ],
   "source": [
    "from src.data import make_dataset\n",
    "fighters = make_dataset.make()\n",
    "fighters[0:2]"
   ],
   "metadata": {
    "collapsed": false,
    "pycharm": {
     "name": "#%%\n",
     "is_executing": false
    }
   }
  },
  {
   "cell_type": "markdown",
   "source": [
    "<p><h6 style=\"color:green\">Great! we can print the first 2 fighters which means the <a style=\"color:red\">make()</a> function from the <a style=\"color:red\">make_dataset</a> module is running smoothly. All this function does is extract the data from the extracted <a style=\"color:red\">fighters.json</a> file.</p> Now lets explore the size of this list. AKA the number of fighters in the data-set. "
   ],
   "metadata": {
    "collapsed": false,
    "pycharm": {
     "name": "#%% md\n"
    }
   }
  },
  {
   "cell_type": "code",
   "execution_count": 7,
   "outputs": [
    {
     "data": {
      "text/plain": "3323"
     },
     "metadata": {},
     "output_type": "execute_result",
     "execution_count": 7
    }
   ],
   "source": [
    "len(fighters)"
   ],
   "metadata": {
    "collapsed": false,
    "pycharm": {
     "name": "#%%\n",
     "is_executing": false
    }
   }
  },
  {
   "cell_type": "markdown",
   "source": [
    "<h2 style=\"color:black\">First question: how does the distribution of fighters's weight division look like?</h2> Current weight divisions in the UFC:<br><br><ul><li>Strawweight:115 lb</li><li>Flyweight: 115-125 lbs</li><li>Bantamweight: 125-135 lbs</li><li>Featherweight: 135-145 lbs</li><li>Lightweight 145-155 lbs</li><li>Welterweight 155-170 lbs</li><li>Middleweight: 170-185 lbs</li><li>Light Heavyweight: 185-205 lbs<li>Heavyweight: 205-265 lbs</li></ul>\n",
    "<h6 style=\"color:green\">Lets create a function that counts the number of fighters in each sub-division<h6>"
   ],
   "metadata": {
    "collapsed": false,
    "pycharm": {
     "name": "#%% md\n"
    }
   }
  },
  {
   "cell_type": "code",
   "execution_count": 64,
   "outputs": [],
   "source": [
    "def get_subdivisions_count(dataset):\n",
    "    \n",
    "    counts = {\n",
    "            \"strawweight\":0,\n",
    "            \"flyweight\":0,\n",
    "            \"bantanamweight\":0,\n",
    "            \"featherweight\": 0,\n",
    "            \"lightweight\":0,\n",
    "            \"welterweight\":0,\n",
    "            \"middleweight\":0,\n",
    "            \"light heavyweight\":0,\n",
    "            \"heavyweight\":0,\n",
    "            \"no data\":0\n",
    "        }\n",
    "    \n",
    "    for fighter in dataset:\n",
    "        \n",
    "        try:\n",
    "            fighterWeight = int(fighter['weight'])\n",
    "        except TypeError:\n",
    "            counts['no data'] +=1\n",
    "            continue\n",
    "        \n",
    "        if 0 < fighterWeight <= 115:\n",
    "            counts['strawweight'] +=1\n",
    "            \n",
    "        elif 115 < fighterWeight <= 125:\n",
    "            counts['flyweight'] +=1\n",
    "            \n",
    "        elif 125 < fighterWeight <= 135:\n",
    "            counts['bantanamweight'] +=1\n",
    "            \n",
    "        elif 135 < fighterWeight <= 145:\n",
    "            counts['featherweight'] +=1\n",
    "            \n",
    "        elif 145 < fighterWeight <= 155:\n",
    "            counts['lightweight'] += 1\n",
    "    \n",
    "        elif 155 < fighterWeight <= 170:\n",
    "            counts['welterweight'] +=1\n",
    "            \n",
    "        elif 170 < fighterWeight <= 185:\n",
    "            counts['middleweight'] +=1\n",
    "            \n",
    "        elif 185 < fighterWeight <= 205:\n",
    "            counts['light heavyweight'] +=1\n",
    "            \n",
    "        elif 205 < fighterWeight <= 265:\n",
    "            counts['heavyweight'] += 1\n",
    "        else:\n",
    "            continue\n",
    "            \n",
    "    return counts"
   ],
   "metadata": {
    "collapsed": false,
    "pycharm": {
     "name": "#%%\n",
     "is_executing": false
    }
   }
  },
  {
   "cell_type": "markdown",
   "source": [
    "<h6 style=\"color:green\">This function will be usefull in the future. I will be adding this function to the <a style=\"color:red\">build_features</a> package in this project. </h6>"
   ],
   "metadata": {
    "collapsed": false,
    "pycharm": {
     "name": "#%% md\n"
    }
   }
  },
  {
   "cell_type": "code",
   "execution_count": 66,
   "outputs": [
    {
     "data": {
      "text/plain": "{'strawweight': 75,\n 'flyweight': 159,\n 'bantanamweight': 327,\n 'featherweight': 361,\n 'lightweight': 528,\n 'welterweight': 554,\n 'middleweight': 443,\n 'light heavyweight': 376,\n 'heavyweight': 377,\n 'no data': 76}"
     },
     "metadata": {},
     "output_type": "execute_result",
     "execution_count": 66
    }
   ],
   "source": [
    "get_subdivisions_count(fighters)"
   ],
   "metadata": {
    "collapsed": false,
    "pycharm": {
     "name": "#%%\n",
     "is_executing": false
    }
   }
  },
  {
   "cell_type": "markdown",
   "source": [
    "<h6 style=\"color:green\">Nice! we now have a dictionary with the weight-class distributions.Now lets try to vizualize it! </h6>"
   ],
   "metadata": {
    "collapsed": false,
    "pycharm": {
     "name": "#%% md\n"
    }
   }
  },
  {
   "cell_type": "code",
   "execution_count": null,
   "outputs": [],
   "source": [],
   "metadata": {
    "collapsed": false,
    "pycharm": {
     "name": "#%%\n"
    }
   }
  }
 ],
 "metadata": {
  "language_info": {
   "codemirror_mode": {
    "name": "ipython",
    "version": 2
   },
   "file_extension": ".py",
   "mimetype": "text/x-python",
   "name": "python",
   "nbconvert_exporter": "python",
   "pygments_lexer": "ipython2",
   "version": "2.7.6"
  },
  "kernelspec": {
   "name": "python3",
   "language": "python",
   "display_name": "Python 3"
  },
  "pycharm": {
   "stem_cell": {
    "cell_type": "raw",
    "source": [],
    "metadata": {
     "collapsed": false
    }
   }
  }
 },
 "nbformat": 4,
 "nbformat_minor": 0
}