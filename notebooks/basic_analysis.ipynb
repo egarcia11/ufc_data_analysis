{
 "cells": [
  {
   "cell_type": "markdown",
   "source": [
    "<p><h2 style=\"color:black\">First things first</h2><p> I am going explore the data-set to see what interesting features i can target in this first analysis. I will be using this notebook as a \"sand-box\". This process will give me an idea of what functions i need to create in order to manipulate my data-set.</p>\n",
    "<h6 style=\"color:green\">Lets start by importing the dataset. This data-set was scraped from <a href=\"http://ufcstats.com\">http://www.ufcstats.com</a> using the <a style=\"color:red\">ufc_extraction.py</a> script in this project. This script scrapes fighter statistics and stores them in a <a style=\"color:red\"> .json</a> file."
   ],
   "metadata": {
    "collapsed": false,
    "pycharm": {
     "name": "#%% md\n"
    }
   }
  },
  {
   "cell_type": "code",
   "execution_count": 4,
   "outputs": [
    {
     "data": {
      "text/plain": "[{'url': 'http://ufcstats.com/fighter-details/93fe7332d16c6ad9',\n  'name': 'Tom Aaron',\n  'wins': 5,\n  'draws': 3,\n  'losses': 0,\n  'height': None,\n  'weight': 155.0,\n  'reach': None,\n  'stance': None,\n  'dob': '7-13-1978',\n  'slpm': 0.0,\n  'stracc': 0.0,\n  'sapm': 0.0,\n  'strdef': 0.0,\n  'tdavg': 0.0,\n  'tdacc': 0.0,\n  'tddef': 0.0,\n  'subavg': 0.0},\n {'url': 'http://ufcstats.com/fighter-details/15df64c02b6b0fde',\n  'name': 'Danny Abbadi',\n  'wins': 4,\n  'draws': 6,\n  'losses': 0,\n  'height': 511.0,\n  'weight': 155.0,\n  'reach': None,\n  'stance': 'Orthodox',\n  'dob': '7-03-1983',\n  'slpm': 3.29,\n  'stracc': 38.0,\n  'sapm': 4.41,\n  'strdef': 57.0,\n  'tdavg': 0.0,\n  'tdacc': 0.0,\n  'tddef': 77.0,\n  'subavg': 0.0}]"
     },
     "metadata": {},
     "output_type": "execute_result",
     "execution_count": 4
    }
   ],
   "source": [
    "from src.data import make_dataset\n",
    "fighters = make_dataset.make()\n",
    "fighters[0:2]"
   ],
   "metadata": {
    "collapsed": false,
    "pycharm": {
     "name": "#%%\n",
     "is_executing": false
    }
   }
  },
  {
   "cell_type": "markdown",
   "source": [
    "<h6 style=\"color:green\">Great! we can print the first 2 fighters which means the <a style=\"color:red\">make()</a> function from the <a style=\"color:red\">make_dataset</a> module is running smoothly. All this function does is extract the data from the extracted <a style=\"color:red\">fighters.json</a> file.</p> Now lets explore the size of this list. AKA the number of fighters in the data-set. "
   ],
   "metadata": {
    "collapsed": false,
    "pycharm": {
     "name": "#%% md\n"
    }
   }
  },
  {
   "cell_type": "code",
   "execution_count": 5,
   "outputs": [
    {
     "data": {
      "text/plain": "3323"
     },
     "metadata": {},
     "output_type": "execute_result",
     "execution_count": 5
    }
   ],
   "source": [
    "len(fighters)"
   ],
   "metadata": {
    "collapsed": false,
    "pycharm": {
     "name": "#%%\n",
     "is_executing": false
    }
   }
  },
  {
   "cell_type": "markdown",
   "source": [
    "<h6 style=\"color:green\">Im curious to see what percentage of these fighters are in each figting category.</h6>\n",
    "<p><h2 style=\"color:black\">First question: how does the distribution of fighters's weight division look like?</h2>The UFC weight divisions are: lightweight, welterweight,middleweight, </p>"
   ],
   "metadata": {
    "collapsed": false,
    "pycharm": {
     "name": "#%% md\n"
    }
   }
  }
 ],
 "metadata": {
  "language_info": {
   "codemirror_mode": {
    "name": "ipython",
    "version": 2
   },
   "file_extension": ".py",
   "mimetype": "text/x-python",
   "name": "python",
   "nbconvert_exporter": "python",
   "pygments_lexer": "ipython2",
   "version": "2.7.6"
  },
  "kernelspec": {
   "name": "python3",
   "language": "python",
   "display_name": "Python 3"
  },
  "pycharm": {
   "stem_cell": {
    "cell_type": "raw",
    "source": [],
    "metadata": {
     "collapsed": false
    }
   }
  }
 },
 "nbformat": 4,
 "nbformat_minor": 0
}