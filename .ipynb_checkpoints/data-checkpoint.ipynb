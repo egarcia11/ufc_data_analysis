{
 "cells": [
  {
   "cell_type": "code",
   "execution_count": 2,
   "metadata": {},
   "outputs": [],
   "source": [
    "def suplabel(axis,label,label_prop=None,\n",
    "             labelpad=5,\n",
    "             ha='center',va='center'):\n",
    "    ''' Add super ylabel or xlabel to the figure\n",
    "    Similar to matplotlib.suptitle\n",
    "    axis       - string: \"x\" or \"y\"\n",
    "    label      - string\n",
    "    label_prop - keyword dictionary for Text\n",
    "    labelpad   - padding from the axis (default: 5)\n",
    "    ha         - horizontal alignment (default: \"center\")\n",
    "    va         - vertical alignment (default: \"center\")\n",
    "    '''\n",
    "    fig = pylab.gcf()\n",
    "    xmin = []\n",
    "    ymin = []\n",
    "    for ax in fig.axes:\n",
    "        xmin.append(ax.get_position().xmin)\n",
    "        ymin.append(ax.get_position().ymin)\n",
    "    xmin,ymin = min(xmin),min(ymin)\n",
    "    dpi = fig.dpi\n",
    "    if axis.lower() == \"y\":\n",
    "        rotation=90.\n",
    "        x = xmin-float(labelpad)/dpi\n",
    "        y = 0.5\n",
    "    elif axis.lower() == 'x':\n",
    "        rotation = 0.\n",
    "        x = 0.5\n",
    "        y = ymin - float(labelpad)/dpi\n",
    "    else:\n",
    "        raise Exception(\"Unexpected axis: x or y\")\n",
    "    if label_prop is None: \n",
    "        label_prop = dict()\n",
    "    pylab.text(x,y,label,rotation=rotation,\n",
    "               transform=fig.transFigure,\n",
    "               ha=ha,va=va,\n",
    "               **label_prop)\n",
    "    "
   ]
  }
 ],
 "metadata": {
  "kernelspec": {
   "display_name": "Python 3",
   "language": "python",
   "name": "python3"
  },
  "language_info": {
   "codemirror_mode": {
    "name": "ipython",
    "version": 3
   },
   "file_extension": ".py",
   "mimetype": "text/x-python",
   "name": "python",
   "nbconvert_exporter": "python",
   "pygments_lexer": "ipython3",
   "version": "3.7.3"
  }
 },
 "nbformat": 4,
 "nbformat_minor": 2
}
